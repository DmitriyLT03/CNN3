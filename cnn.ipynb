{
 "cells": [
  {
   "cell_type": "markdown",
   "id": "0906de4d",
   "metadata": {},
   "source": [
    "Импортируем нужные библиотеки для обучения, интерполяции и загрузки датасета"
   ]
  },
  {
   "cell_type": "code",
   "execution_count": null,
   "id": "c1dd0cb5",
   "metadata": {},
   "outputs": [],
   "source": [
    "import numpy as np\n",
    "import torch\n",
    "import sys\n",
    "import torchvision\n",
    "import torchvision.models as models\n",
    "import matplotlib.pyplot as plt\n",
    "from torchvision import transforms\n",
    "from tqdm.auto import tqdm\n",
    "from sklearn.metrics import accuracy_score\n",
    "from torch import nn\n",
    "from scipy.interpolate import make_interp_spline"
   ]
  },
  {
   "cell_type": "markdown",
   "id": "4338eb70",
   "metadata": {},
   "source": [
    "Пишем функцию для создания лоадера, так как именно с помощью него мы передаем батчи в нашу сетку"
   ]
  },
  {
   "cell_type": "code",
   "execution_count": 2,
   "id": "35eb11a7",
   "metadata": {},
   "outputs": [],
   "source": [
    "def loader(PATH, transforms):\n",
    "    dataset = torchvision.datasets.ImageFolder(PATH, transform=transforms)\n",
    "    loader = torch.utils.data.DataLoader(dataset, batch_size = 32, shuffle = True, num_workers=8)\n",
    "    return loader"
   ]
  },
  {
   "cell_type": "markdown",
   "id": "f21059c1",
   "metadata": {},
   "source": [
    "Пишем функцию обучения, где нейросеть обучаем с помошью обратного распространения ошибки, где критерий берем Кросс-энтропию, а так же считаем метрики(accuracy-точность) на обучающей выборке и на тестовой"
   ]
  },
  {
   "cell_type": "code",
   "execution_count": 3,
   "id": "d2a5bfe5",
   "metadata": {},
   "outputs": [],
   "source": [
    "def training_with_accuracy(train, test, model, epochs, optimizer, criterion, mass_for_accuracy, device=\"cuda:0\"):\n",
    "    for epoch in range(epochs):\n",
    "        model.train()\n",
    "        total_predictions = np.array([])\n",
    "        total_labels = np.array([])\n",
    "        with tqdm(total=len(train), file=sys.stdout) as prbar:\n",
    "            for images, labels in train:\n",
    "                images = images.to(device)\n",
    "                labels = labels.to(device)\n",
    "                predicted = model(images)\n",
    "                loss = criterion(predicted, labels)\n",
    "                loss.backward()\n",
    "                optimizer.step()\n",
    "                optimizer.zero_grad()\n",
    "                prbar.update(1)\n",
    "                total_predictions = np.append(total_predictions, predicted.argmax(1).cpu().detach().numpy())\n",
    "                total_labels = np.append(total_labels, labels.cpu().detach().numpy())\n",
    "        accuracy = accuracy_score(total_predictions, total_labels)\n",
    "        print(\"Epoch: \", epoch, ' accuracy_train: ', accuracy)\n",
    "        with torch.no_grad():\n",
    "            model.eval()\n",
    "            with tqdm(total=len(test), file=sys.stdout) as prbar:\n",
    "                for images, labels in test:\n",
    "                    images = images.to(device)\n",
    "                    labels = labels.to(device)\n",
    "                    predicted = model(images)\n",
    "                    prbar.update(1)\n",
    "                    total_predictions = np.append(total_predictions, predicted.argmax(1).cpu().detach().numpy())\n",
    "                    total_labels = np.append(total_labels, labels.cpu().detach().numpy())\n",
    "            accuracy = accuracy_score(total_predictions, total_labels)\n",
    "            mass_for_accuracy.append(accuracy)\n",
    "            print(\"Epoch: \", epoch, ' accuracy_val: ', accuracy)"
   ]
  },
  {
   "cell_type": "markdown",
   "id": "60cf7b69",
   "metadata": {},
   "source": [
    "Задаем модуль transform, который занимается preprocessing'ом данных, то есть уменьшает размер изображения специально для нашей нейронной сети, а так же проводит нормализацию над каждой картинкой, так как нейросеть показывает более хороший результат если работает с распредленным значением пикселей, то есть не должно быть разброса, в ином случае веса фильтров нейронной сети начнут переобучаться."
   ]
  },
  {
   "cell_type": "code",
   "execution_count": 4,
   "id": "93db489c",
   "metadata": {},
   "outputs": [],
   "source": [
    "transform = transforms.Compose(\n",
    "    [\n",
    "     transforms.Resize(256),\n",
    "     transforms.CenterCrop(224),\n",
    "     transforms.ToTensor(),\n",
    "     transforms.Normalize(mean=[0.485, 0.456, 0.406],\n",
    "                              std=[0.229, 0.224, 0.225])\n",
    "    ])\n",
    "val_loader = loader(\"C:\\\\Users\\\\Dmitry\\\\Desktop\\\\CNN3\\\\test\", transform)\n",
    "train_loader = loader(\"C:\\\\Users\\\\Dmitry\\\\Desktop\\\\CNN3\\\\train\", transform)\n",
    "accuracy_resnet50 = []\n",
    "accuracy_vgg19 = []"
   ]
  },
  {
   "cell_type": "markdown",
   "id": "d941e6f6",
   "metadata": {},
   "source": [
    "Берем предобученные нейронные сети resnet50(с 50 слоями residual connection) и vgg19(с 19 обычными сверточными слоями) и изменяем выходной слой, так как у нас всего 2 класса"
   ]
  },
  {
   "cell_type": "code",
   "execution_count": 5,
   "id": "d199e715",
   "metadata": {},
   "outputs": [],
   "source": [
    "resnet50 = models.resnet50(pretrained=True)\n",
    "num_ftrs = resnet50.fc.in_features\n",
    "resnet50.fc = nn.Linear(num_ftrs, 2)"
   ]
  },
  {
   "cell_type": "code",
   "execution_count": 6,
   "id": "93e8c893",
   "metadata": {},
   "outputs": [
    {
     "name": "stderr",
     "output_type": "stream",
     "text": [
      "Downloading: \"https://download.pytorch.org/models/vgg19-dcbb9e9d.pth\" to C:\\Users\\Dmitry/.cache\\torch\\hub\\checkpoints\\vgg19-dcbb9e9d.pth\n"
     ]
    },
    {
     "data": {
      "application/vnd.jupyter.widget-view+json": {
       "model_id": "2827303361154b8aa55b09a29ca26207",
       "version_major": 2,
       "version_minor": 0
      },
      "text/plain": [
       "  0%|          | 0.00/548M [00:00<?, ?B/s]"
      ]
     },
     "metadata": {},
     "output_type": "display_data"
    }
   ],
   "source": [
    "vgg19 = models.vgg19(pretrained=True)\n",
    "vgg19.classifier[0].out_features = nn.Linear(num_ftrs, 2)"
   ]
  },
  {
   "cell_type": "markdown",
   "id": "a284734b",
   "metadata": {},
   "source": [
    "Задаем количество эпох для обучения, наш критерийЮ по которому будем штрафовать нейронную сеть, и оптимайзер Adam, так как нам надо, чтобы градиенты использовали иннерцию(momentum) и не затухали на большом количестве фотографий"
   ]
  },
  {
   "cell_type": "code",
   "execution_count": 7,
   "id": "859458de",
   "metadata": {},
   "outputs": [],
   "source": [
    "epochs = 5\n",
    "criterion = nn.CrossEntropyLoss()\n",
    "device = torch.device(\"cuda:0\") if torch.cuda.is_available() else torch.device(\"cpu\")\n",
    "resnet50.to(device)\n",
    "vgg19.to(device)\n",
    "optimizer_resnet = torch.optim.Adam(resnet50.parameters(), lr=0.01)\n",
    "optimizer_vgg = torch.optim.Adam(vgg19.parameters(), lr=0.001)"
   ]
  },
  {
   "cell_type": "markdown",
   "id": "75062151",
   "metadata": {},
   "source": [
    "Обучаем resnet50"
   ]
  },
  {
   "cell_type": "code",
   "execution_count": 8,
   "id": "fec4bf1d",
   "metadata": {
    "scrolled": false
   },
   "outputs": [
    {
     "data": {
      "application/vnd.jupyter.widget-view+json": {
       "model_id": "dcc73706332e44dea181b4164c2a4679",
       "version_major": 2,
       "version_minor": 0
      },
      "text/plain": [
       "  0%|          | 0/506 [00:00<?, ?it/s]"
      ]
     },
     "metadata": {},
     "output_type": "display_data"
    },
    {
     "name": "stdout",
     "output_type": "stream",
     "text": [
      "Epoch:  0  accuracy_train:  0.8590147722356141\n"
     ]
    },
    {
     "data": {
      "application/vnd.jupyter.widget-view+json": {
       "model_id": "513912b49c6a4f84a7795aca35111f38",
       "version_major": 2,
       "version_minor": 0
      },
      "text/plain": [
       "  0%|          | 0/963 [00:00<?, ?it/s]"
      ]
     },
     "metadata": {},
     "output_type": "display_data"
    },
    {
     "name": "stdout",
     "output_type": "stream",
     "text": [
      "Epoch:  0  accuracy_val:  0.8632047351388179\n"
     ]
    },
    {
     "data": {
      "application/vnd.jupyter.widget-view+json": {
       "model_id": "0a93cd8ee8204f67bdb155eec4443434",
       "version_major": 2,
       "version_minor": 0
      },
      "text/plain": [
       "  0%|          | 0/506 [00:00<?, ?it/s]"
      ]
     },
     "metadata": {},
     "output_type": "display_data"
    },
    {
     "name": "stdout",
     "output_type": "stream",
     "text": [
      "Epoch:  1  accuracy_train:  0.9056183942147228\n"
     ]
    },
    {
     "data": {
      "application/vnd.jupyter.widget-view+json": {
       "model_id": "aed438fa670e4c82a0bbb74fda966bfd",
       "version_major": 2,
       "version_minor": 0
      },
      "text/plain": [
       "  0%|          | 0/963 [00:00<?, ?it/s]"
      ]
     },
     "metadata": {},
     "output_type": "display_data"
    },
    {
     "name": "stdout",
     "output_type": "stream",
     "text": [
      "Epoch:  1  accuracy_val:  0.9440895929143246\n"
     ]
    },
    {
     "data": {
      "application/vnd.jupyter.widget-view+json": {
       "model_id": "5744de5f24b049eea182adbcce66a38a",
       "version_major": 2,
       "version_minor": 0
      },
      "text/plain": [
       "  0%|          | 0/506 [00:00<?, ?it/s]"
      ]
     },
     "metadata": {},
     "output_type": "display_data"
    },
    {
     "name": "stdout",
     "output_type": "stream",
     "text": [
      "Epoch:  2  accuracy_train:  0.9459793559552506\n"
     ]
    },
    {
     "data": {
      "application/vnd.jupyter.widget-view+json": {
       "model_id": "fbfd9ec886584414a2cdde31ef179ee8",
       "version_major": 2,
       "version_minor": 0
      },
      "text/plain": [
       "  0%|          | 0/963 [00:00<?, ?it/s]"
      ]
     },
     "metadata": {},
     "output_type": "display_data"
    },
    {
     "name": "stdout",
     "output_type": "stream",
     "text": [
      "Epoch:  2  accuracy_val:  0.9764094702776358\n"
     ]
    },
    {
     "data": {
      "application/vnd.jupyter.widget-view+json": {
       "model_id": "ce786f9fd15f442e97d1127d8ab2e51e",
       "version_major": 2,
       "version_minor": 0
      },
      "text/plain": [
       "  0%|          | 0/506 [00:00<?, ?it/s]"
      ]
     },
     "metadata": {},
     "output_type": "display_data"
    },
    {
     "name": "stdout",
     "output_type": "stream",
     "text": [
      "Epoch:  3  accuracy_train:  0.9679831880833178\n"
     ]
    },
    {
     "data": {
      "application/vnd.jupyter.widget-view+json": {
       "model_id": "9efc5b3d02754bb69c8c010daa497880",
       "version_major": 2,
       "version_minor": 0
      },
      "text/plain": [
       "  0%|          | 0/963 [00:00<?, ?it/s]"
      ]
     },
     "metadata": {},
     "output_type": "display_data"
    },
    {
     "name": "stdout",
     "output_type": "stream",
     "text": [
      "Epoch:  3  accuracy_val:  0.9784534150911258\n"
     ]
    },
    {
     "data": {
      "application/vnd.jupyter.widget-view+json": {
       "model_id": "7936cdb2177242ea8f78cf0868e383e7",
       "version_major": 2,
       "version_minor": 0
      },
      "text/plain": [
       "  0%|          | 0/506 [00:00<?, ?it/s]"
      ]
     },
     "metadata": {},
     "output_type": "display_data"
    },
    {
     "name": "stdout",
     "output_type": "stream",
     "text": [
      "Epoch:  4  accuracy_train:  0.9783052104580011\n"
     ]
    },
    {
     "data": {
      "application/vnd.jupyter.widget-view+json": {
       "model_id": "8995106e99f34f8e9cf549ac44cce146",
       "version_major": 2,
       "version_minor": 0
      },
      "text/plain": [
       "  0%|          | 0/963 [00:00<?, ?it/s]"
      ]
     },
     "metadata": {},
     "output_type": "display_data"
    },
    {
     "name": "stdout",
     "output_type": "stream",
     "text": [
      "Epoch:  4  accuracy_val:  0.9801992846193153\n"
     ]
    }
   ],
   "source": [
    "training_with_accuracy(train_loader, val_loader, resnet50, epochs, optimizer_resnet, criterion, accuracy_resnet50, device=\"cuda:0\")"
   ]
  },
  {
   "cell_type": "markdown",
   "id": "cfd05310",
   "metadata": {},
   "source": [
    "Обучаем vgg19"
   ]
  },
  {
   "cell_type": "code",
   "execution_count": 12,
   "id": "66daba54",
   "metadata": {
    "scrolled": false
   },
   "outputs": [
    {
     "data": {
      "application/vnd.jupyter.widget-view+json": {
       "model_id": "b12524604eb641a88c5624b1f473a044",
       "version_major": 2,
       "version_minor": 0
      },
      "text/plain": [
       "  0%|          | 0/506 [00:00<?, ?it/s]"
      ]
     },
     "metadata": {},
     "output_type": "display_data"
    },
    {
     "name": "stdout",
     "output_type": "stream",
     "text": [
      "Epoch:  0  accuracy_train:  0.881080412880895\n"
     ]
    },
    {
     "data": {
      "application/vnd.jupyter.widget-view+json": {
       "model_id": "d288f654d70f400eb569672b3e3839fa",
       "version_major": 2,
       "version_minor": 0
      },
      "text/plain": [
       "  0%|          | 0/963 [00:00<?, ?it/s]"
      ]
     },
     "metadata": {},
     "output_type": "display_data"
    },
    {
     "name": "stdout",
     "output_type": "stream",
     "text": [
      "Epoch:  0  accuracy_val:  0.937446772270482\n"
     ]
    },
    {
     "data": {
      "application/vnd.jupyter.widget-view+json": {
       "model_id": "d4c4b57fb6734a7d8ad8e2624fd3ec79",
       "version_major": 2,
       "version_minor": 0
      },
      "text/plain": [
       "  0%|          | 0/506 [00:00<?, ?it/s]"
      ]
     },
     "metadata": {},
     "output_type": "display_data"
    },
    {
     "name": "stdout",
     "output_type": "stream",
     "text": [
      "Epoch:  1  accuracy_train:  0.6806353915569565\n"
     ]
    },
    {
     "data": {
      "application/vnd.jupyter.widget-view+json": {
       "model_id": "b37f3c2191ff4cc9b976bcb49b85adca",
       "version_major": 2,
       "version_minor": 0
      },
      "text/plain": [
       "  0%|          | 0/963 [00:00<?, ?it/s]"
      ]
     },
     "metadata": {},
     "output_type": "display_data"
    },
    {
     "name": "stdout",
     "output_type": "stream",
     "text": [
      "Epoch:  1  accuracy_val:  0.68042071197411\n"
     ]
    },
    {
     "data": {
      "application/vnd.jupyter.widget-view+json": {
       "model_id": "23c036de7e1747debd210574a7c7ea8c",
       "version_major": 2,
       "version_minor": 0
      },
      "text/plain": [
       "  0%|          | 0/506 [00:00<?, ?it/s]"
      ]
     },
     "metadata": {},
     "output_type": "display_data"
    },
    {
     "name": "stdout",
     "output_type": "stream",
     "text": [
      "Epoch:  2  accuracy_train:  0.7929414673341987\n"
     ]
    },
    {
     "data": {
      "application/vnd.jupyter.widget-view+json": {
       "model_id": "d3685967c4a046a38f0f384acf065aca",
       "version_major": 2,
       "version_minor": 0
      },
      "text/plain": [
       "  0%|          | 0/963 [00:00<?, ?it/s]"
      ]
     },
     "metadata": {},
     "output_type": "display_data"
    },
    {
     "name": "stdout",
     "output_type": "stream",
     "text": [
      "Epoch:  2  accuracy_val:  0.785705160960654\n"
     ]
    },
    {
     "data": {
      "application/vnd.jupyter.widget-view+json": {
       "model_id": "da532528d7a64d18a9ac263d56b347f7",
       "version_major": 2,
       "version_minor": 0
      },
      "text/plain": [
       "  0%|          | 0/506 [00:00<?, ?it/s]"
      ]
     },
     "metadata": {},
     "output_type": "display_data"
    },
    {
     "name": "stdout",
     "output_type": "stream",
     "text": [
      "Epoch:  3  accuracy_train:  0.7868224241300451\n"
     ]
    },
    {
     "data": {
      "application/vnd.jupyter.widget-view+json": {
       "model_id": "6c62f4eafb164c789598fee6f6416fa9",
       "version_major": 2,
       "version_minor": 0
      },
      "text/plain": [
       "  0%|          | 0/963 [00:00<?, ?it/s]"
      ]
     },
     "metadata": {},
     "output_type": "display_data"
    },
    {
     "name": "stdout",
     "output_type": "stream",
     "text": [
      "Epoch:  3  accuracy_val:  0.6618974621018566\n"
     ]
    },
    {
     "data": {
      "application/vnd.jupyter.widget-view+json": {
       "model_id": "6a58e4fc2ad848229b7bf32930cf95ea",
       "version_major": 2,
       "version_minor": 0
      },
      "text/plain": [
       "  0%|          | 0/506 [00:00<?, ?it/s]"
      ]
     },
     "metadata": {},
     "output_type": "display_data"
    },
    {
     "name": "stdout",
     "output_type": "stream",
     "text": [
      "Epoch:  4  accuracy_train:  0.861116261820879\n"
     ]
    },
    {
     "data": {
      "application/vnd.jupyter.widget-view+json": {
       "model_id": "4aebe615a9ae49ecbbd1fe05ad9df4d6",
       "version_major": 2,
       "version_minor": 0
      },
      "text/plain": [
       "  0%|          | 0/963 [00:00<?, ?it/s]"
      ]
     },
     "metadata": {},
     "output_type": "display_data"
    },
    {
     "name": "stdout",
     "output_type": "stream",
     "text": [
      "Epoch:  4  accuracy_val:  0.9332737182762733\n"
     ]
    }
   ],
   "source": [
    "training_with_accuracy(train_loader, val_loader, vgg19, epochs, optimizer_vgg, criterion, accuracy_vgg19, device=\"cuda:0\")"
   ]
  },
  {
   "cell_type": "markdown",
   "id": "268df23c",
   "metadata": {},
   "source": [
    "Пишем функцию интерполяции для улучшения отображения графиков обучения"
   ]
  },
  {
   "cell_type": "code",
   "execution_count": 13,
   "id": "c025aff2",
   "metadata": {},
   "outputs": [],
   "source": [
    "def interpolation(mass, iterations):\n",
    "    x_ = np.arange(0, iterations, step=1)\n",
    "    y_ = np.asarray(mass)\n",
    "    spline = make_interp_spline(sorted(x_), y_)\n",
    "    x = np.linspace(x_.min(), x_.max(), 500)\n",
    "    y = spline(x)\n",
    "    return x, y"
   ]
  },
  {
   "cell_type": "markdown",
   "id": "d3e429c5",
   "metadata": {},
   "source": [
    "Строим графики"
   ]
  },
  {
   "cell_type": "code",
   "execution_count": 14,
   "id": "30cbd0a9",
   "metadata": {},
   "outputs": [
    {
     "data": {
      "image/png": "[encoded data removed]",
      "text/plain": [
       "<Figure size 864x576 with 1 Axes>"
      ]
     },
     "metadata": {
      "needs_background": "light"
     },
     "output_type": "display_data"
    }
   ],
   "source": [
    "x_vgg, y_vgg = interpolation(accuracy_vgg19, epochs)\n",
    "x_resnet, y_resnet = interpolation(accuracy_resnet50, epochs)\n",
    "fig, ax = plt.subplots(figsize=(12, 8))\n",
    "ax.set_ylabel('Accuracy')\n",
    "ax.set_xlabel('Epoch')\n",
    "ax.plot(x_resnet, y_resnet , '-', label = 'resnet50')\n",
    "ax.plot(x_vgg, y_vgg , '--',label = 'vgg19')\n",
    "ax.set_xticks(np.arange(0, epochs, step=1))\n",
    "ax.legend()\n",
    "plt.show()"
   ]
  },
  {
   "cell_type": "code",
   "execution_count": 15,
   "id": "7dce9919",
   "metadata": {},
   "outputs": [],
   "source": [
    "PATH = 'C:\\\\Users\\\\Dmitry\\\\Desktop\\\\CNN3\\\\vgg19.pth'\n",
    "torch.save(vgg19.state_dict(), PATH)\n",
    "PATH = 'C:\\\\Users\\\\Dmitry\\\\Desktop\\\\CNN3\\\\resnet50.pth'\n",
    "torch.save(resnet50.state_dict(), PATH)"
   ]
  },
  {
   "cell_type": "code",
   "execution_count": null,
   "id": "dd6cb1e7",
   "metadata": {},
   "outputs": [],
   "source": []
  }
 ],
 "metadata": {
  "kernelspec": {
   "display_name": "Python 3 (ipykernel)",
   "language": "python",
   "name": "python3"
  },
  "language_info": {
   "codemirror_mode": {
    "name": "ipython",
    "version": 3
   },
   "file_extension": ".py",
   "mimetype": "text/x-python",
   "name": "python",
   "nbconvert_exporter": "python",
   "pygments_lexer": "ipython3",
   "version": "3.9.12"
  }
 },
 "nbformat": 4,
 "nbformat_minor": 5
}
